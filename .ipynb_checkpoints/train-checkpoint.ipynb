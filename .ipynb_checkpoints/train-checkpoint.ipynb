{
 "cells": [
  {
   "cell_type": "code",
   "execution_count": 1,
   "id": "6cace7ac-969b-4084-965a-47f02917b635",
   "metadata": {},
   "outputs": [],
   "source": [
    "import numpy as np\n",
    "import pandas as pd\n",
    "import sklearn\n",
    "import mlflow"
   ]
  },
  {
   "cell_type": "code",
   "execution_count": 2,
   "id": "9913ce1c-3c5f-4450-91d9-a1c40d79fec3",
   "metadata": {},
   "outputs": [],
   "source": [
    "mlflow.set_tracking_uri('http://localhost:5000')"
   ]
  },
  {
   "cell_type": "code",
   "execution_count": null,
   "id": "d2eb4e56-289b-4dd0-b33c-276fa91edec4",
   "metadata": {},
   "outputs": [],
   "source": []
  },
  {
   "cell_type": "code",
   "execution_count": 3,
   "id": "2892421f-43e5-4701-ae25-33e8ab33007e",
   "metadata": {},
   "outputs": [],
   "source": [
    "train_dataset = pd.read_csv('train.csv')\n",
    "test_dataset = pd.read_csv('test.csv')\n",
    "validation_dataset = pd.read_csv('validation.csv')"
   ]
  },
  {
   "cell_type": "code",
   "execution_count": 4,
   "id": "a7b77152-b8a2-4140-99a7-a6fb3d5e2138",
   "metadata": {},
   "outputs": [
    {
     "data": {
      "text/html": [
       "<div>\n",
       "<style scoped>\n",
       "    .dataframe tbody tr th:only-of-type {\n",
       "        vertical-align: middle;\n",
       "    }\n",
       "\n",
       "    .dataframe tbody tr th {\n",
       "        vertical-align: top;\n",
       "    }\n",
       "\n",
       "    .dataframe thead th {\n",
       "        text-align: right;\n",
       "    }\n",
       "</style>\n",
       "<table border=\"1\" class=\"dataframe\">\n",
       "  <thead>\n",
       "    <tr style=\"text-align: right;\">\n",
       "      <th></th>\n",
       "      <th>Preprocessed_text</th>\n",
       "      <th>Spam</th>\n",
       "    </tr>\n",
       "  </thead>\n",
       "  <tbody>\n",
       "    <tr>\n",
       "      <th>0</th>\n",
       "      <td>information shalesh please look give informati...</td>\n",
       "      <td>0</td>\n",
       "    </tr>\n",
       "    <tr>\n",
       "      <th>1</th>\n",
       "      <td>cinergy monthly prices 1998 date margaret plea...</td>\n",
       "      <td>0</td>\n",
       "    </tr>\n",
       "    <tr>\n",
       "      <th>2</th>\n",
       "      <td>trial weathereffects web site mike following p...</td>\n",
       "      <td>0</td>\n",
       "    </tr>\n",
       "    <tr>\n",
       "      <th>3</th>\n",
       "      <td>picks analyst high level precision small cap s...</td>\n",
       "      <td>1</td>\n",
       "    </tr>\n",
       "    <tr>\n",
       "      <th>4</th>\n",
       "      <td>credit exposure model alex set meeting bill br...</td>\n",
       "      <td>0</td>\n",
       "    </tr>\n",
       "    <tr>\n",
       "      <th>...</th>\n",
       "      <td>...</td>\n",
       "      <td>...</td>\n",
       "    </tr>\n",
       "    <tr>\n",
       "      <th>4004</th>\n",
       "      <td>eol stuff vince spoke tom completely agree wou...</td>\n",
       "      <td>0</td>\n",
       "    </tr>\n",
       "    <tr>\n",
       "      <th>4005</th>\n",
       "      <td>interview schedule shen charles yingquan pleas...</td>\n",
       "      <td>0</td>\n",
       "    </tr>\n",
       "    <tr>\n",
       "      <th>4006</th>\n",
       "      <td>var metals preference aggregated var methodolo...</td>\n",
       "      <td>0</td>\n",
       "    </tr>\n",
       "    <tr>\n",
       "      <th>4007</th>\n",
       "      <td>calling small stock players ames fascism conra...</td>\n",
       "      <td>1</td>\n",
       "    </tr>\n",
       "    <tr>\n",
       "      <th>4008</th>\n",
       "      <td>mgmt 656 jack mba program problem agreed const...</td>\n",
       "      <td>0</td>\n",
       "    </tr>\n",
       "  </tbody>\n",
       "</table>\n",
       "<p>4009 rows × 2 columns</p>\n",
       "</div>"
      ],
      "text/plain": [
       "                                      Preprocessed_text  Spam\n",
       "0     information shalesh please look give informati...     0\n",
       "1     cinergy monthly prices 1998 date margaret plea...     0\n",
       "2     trial weathereffects web site mike following p...     0\n",
       "3     picks analyst high level precision small cap s...     1\n",
       "4     credit exposure model alex set meeting bill br...     0\n",
       "...                                                 ...   ...\n",
       "4004  eol stuff vince spoke tom completely agree wou...     0\n",
       "4005  interview schedule shen charles yingquan pleas...     0\n",
       "4006  var metals preference aggregated var methodolo...     0\n",
       "4007  calling small stock players ames fascism conra...     1\n",
       "4008  mgmt 656 jack mba program problem agreed const...     0\n",
       "\n",
       "[4009 rows x 2 columns]"
      ]
     },
     "execution_count": 4,
     "metadata": {},
     "output_type": "execute_result"
    }
   ],
   "source": [
    "train_dataset"
   ]
  },
  {
   "cell_type": "code",
   "execution_count": 5,
   "id": "66394b49-3f00-4302-8afe-fb2d549983ab",
   "metadata": {},
   "outputs": [],
   "source": [
    "from sklearn.feature_extraction.text import TfidfVectorizer\n",
    "\n",
    "tfidf = TfidfVectorizer()"
   ]
  },
  {
   "cell_type": "code",
   "execution_count": 6,
   "id": "ab6adb0c-2a0a-4289-ba6c-3ba05d4390ca",
   "metadata": {},
   "outputs": [],
   "source": [
    "X_train = tfidf.fit_transform(train_dataset['Preprocessed_text']).toarray()\n",
    "y_train = train_dataset['Spam']"
   ]
  },
  {
   "cell_type": "code",
   "execution_count": 7,
   "id": "031957a7-7812-4801-a648-f07abb8e59e0",
   "metadata": {},
   "outputs": [],
   "source": [
    "X_test = tfidf.transform(test_dataset['Preprocessed_text']).toarray()\n",
    "y_test = test_dataset['Spam']\n"
   ]
  },
  {
   "cell_type": "code",
   "execution_count": 8,
   "id": "492c5edc-55bd-4a8b-bdc7-b9c440d74ff1",
   "metadata": {},
   "outputs": [],
   "source": [
    "X_validation = tfidf.transform(validation_dataset['Preprocessed_text']).toarray()\n",
    "y_validation = validation_dataset['Spam']"
   ]
  },
  {
   "cell_type": "code",
   "execution_count": 9,
   "id": "60bb0dfd-78da-464a-a4b1-5a5e1709d430",
   "metadata": {},
   "outputs": [],
   "source": [
    "from sklearn.metrics import auc, precision_score, recall_score, confusion_matrix, precision_recall_curve\n",
    "from sklearn.tree import DecisionTreeClassifier\n",
    "from sklearn.model_selection import ParameterGrid\n",
    "from random import seed\n",
    "\n",
    "import warnings\n",
    "warnings.filterwarnings(\"ignore\")\n",
    "\n",
    "param_grid = {\n",
    "    'max_depth': [2,8,13,20, None],\n",
    "    'min_samples_split': [2, 7, 15, 20],\n",
    "    'min_samples_leaf': [1, 2, 4, 7, 10]\n",
    "}\n",
    "\n",
    "with mlflow.start_run(run_name= 'Decision Tree'):\n",
    "    best_auc = 0\n",
    "    best_params = None\n",
    "    for params in ParameterGrid(param_grid):\n",
    "        seed(564)\n",
    "        clf = DecisionTreeClassifier(**params)\n",
    "        clf.fit(X_train, y_train)\n",
    "\n",
    "        mlflow.sklearn.log_model(clf, f\"[ {params['max_depth']}, {params['min_samples_split']}, {params['min_samples_leaf']} ]\")\n",
    "        precision, recall, _ = precision_recall_curve(y_validation, clf.predict_proba(X_validation)[:,1])\n",
    "        sorted_indices = np.argsort(precision)\n",
    "        precision = precision[sorted_indices]\n",
    "        recall = recall[sorted_indices]\n",
    "        validation_auc = auc(precision, recall)\n",
    "        if validation_auc > best_auc:\n",
    "            best_auc = validation_auc\n",
    "            best_params = params\n",
    "            \n",
    "        \n",
    "    mlflow.log_params(best_params)\n",
    "    mlflow.log_metric(\"validation_auc\", best_auc)\n",
    "\n",
    "    seed(564)\n",
    "\n",
    "    best_model_DT = DecisionTreeClassifier(**best_params)\n",
    "    best_model_DT.fit(X_train, y_train)\n",
    "\n",
    "    mlflow.sklearn.log_model(best_model_DT, \"Best Decision Tree model\")\n",
    "        "
   ]
  },
  {
   "cell_type": "code",
   "execution_count": 10,
   "id": "aa0f4015-decb-43ed-9f6f-ed815813c3b9",
   "metadata": {},
   "outputs": [],
   "source": [
    "from sklearn.linear_model import LogisticRegression\n",
    "\n",
    "warnings.filterwarnings(\"ignore\")\n",
    "\n",
    "param_grid = {\n",
    "    'l1_ratio':list(np.arange(0.0, 1.01, 0.1)),\n",
    "    'penalty':['elasticnet'],\n",
    "    'solver': ['saga']\n",
    "}\n",
    "\n",
    "with mlflow.start_run(run_name= 'Logistic Regression'):\n",
    "    best_auc = 0\n",
    "    best_params = None\n",
    "    for params in ParameterGrid(param_grid):\n",
    "        seed(789)\n",
    "        clf = LogisticRegression(**params)\n",
    "        clf.fit(X_train, y_train)\n",
    "\n",
    "        mlflow.sklearn.log_model(clf, 'lamda: ' + str(params['l1_ratio']))\n",
    "        precision, recall, _ = precision_recall_curve(y_validation, clf.predict_proba(X_validation)[:,1])\n",
    "        sorted_indices = np.argsort(precision)\n",
    "        precision = precision[sorted_indices]\n",
    "        recall = recall[sorted_indices]\n",
    "        validation_auc = auc(precision, recall)\n",
    "        if validation_auc > best_auc:\n",
    "            best_auc = validation_auc\n",
    "            best_params = params\n",
    "            \n",
    "        \n",
    "    mlflow.log_params(best_params)\n",
    "    mlflow.log_metric(\"validation_auc\", best_auc)\n",
    "\n",
    "    seed(789)\n",
    "\n",
    "    best_model_logistic = LogisticRegression(**best_params)\n",
    "    best_model_logistic.fit(X_train, y_train)\n",
    "\n",
    "    mlflow.sklearn.log_model(best_model_logistic, \"Best Logistic model\")\n",
    "        "
   ]
  },
  {
   "cell_type": "code",
   "execution_count": 11,
   "id": "6ac9c5e0-a73f-4054-a131-3c30fbf73438",
   "metadata": {},
   "outputs": [],
   "source": [
    "from sklearn.naive_bayes import MultinomialNB\n",
    "\n",
    "warnings.filterwarnings(\"ignore\")\n",
    "\n",
    "param_grid = {\n",
    "    'alpha': list(np.arange(0.0, 10.01, 0.5))\n",
    "}\n",
    "\n",
    "with mlflow.start_run(run_name= 'Naive Bayes'):\n",
    "    best_auc = 0\n",
    "    best_params = None\n",
    "    for params in ParameterGrid(param_grid):\n",
    "        seed(561)\n",
    "        clf = MultinomialNB(**params)\n",
    "        clf.fit(X_train, y_train)\n",
    "\n",
    "        mlflow.sklearn.log_model(clf, 'alpha: ' + str(params['alpha']))\n",
    "        precision, recall, _ = precision_recall_curve(y_validation, clf.predict_proba(X_validation)[:,1])\n",
    "        sorted_indices = np.argsort(precision)\n",
    "        precision = precision[sorted_indices]\n",
    "        recall = recall[sorted_indices]\n",
    "        validation_auc = auc(precision, recall)\n",
    "        if validation_auc > best_auc:\n",
    "            best_auc = validation_auc\n",
    "            best_params = params\n",
    "            \n",
    "        \n",
    "    mlflow.log_params(best_params)\n",
    "    mlflow.log_metric(\"validation_auc\", best_auc)\n",
    "\n",
    "    seed(561)\n",
    "\n",
    "    best_model_NB = MultinomialNB(**best_params)\n",
    "    best_model_NB.fit(X_train, y_train)\n",
    "\n",
    "    mlflow.sklearn.log_model(best_model_NB, \"Best Naive Bayes model\")"
   ]
  },
  {
   "cell_type": "code",
   "execution_count": 30,
   "id": "50e2e601-65b7-4878-981e-b9d83d7dfcab",
   "metadata": {},
   "outputs": [
    {
     "name": "stderr",
     "output_type": "stream",
     "text": [
      "Downloading artifacts: 100%|█████████████████████| 5/5 [00:00<00:00, 305.39it/s]\n",
      "Downloading artifacts: 100%|█████████████████████| 5/5 [00:00<00:00, 255.52it/s]\n",
      "Downloading artifacts: 100%|█████████████████████| 5/5 [00:00<00:00, 236.16it/s]\n"
     ]
    }
   ],
   "source": [
    "DT_model = mlflow.sklearn.load_model('runs:/03b63dc9b4b245f290aa0d62363f322b/Best Decision Tree model')\n",
    "Logistic_model = mlflow.sklearn.load_model('runs:/d9ba0ea035814f43853fe816dd785b53/Best Logistic model')\n",
    "NB_model = mlflow.sklearn.load_model('runs:/77489b68f4e246c4a213cbe81cb68f8d/Best Naive Bayes model')"
   ]
  },
  {
   "cell_type": "code",
   "execution_count": 32,
   "id": "a79e8bd2-015a-4832-a13c-3c89ae8aaa7f",
   "metadata": {},
   "outputs": [],
   "source": [
    "models = [DT_model, Logistic_model, NB_model]\n",
    "aucpr = []\n",
    "for i in range(3):\n",
    "    precision, recall, _ = precision_recall_curve(y_test, models[i].predict_proba(X_test)[:,1])\n",
    "    sorted_indices = np.argsort(precision)\n",
    "    precision = precision[sorted_indices]\n",
    "    recall = recall[sorted_indices]\n",
    "    aucpr.append(auc(precision, recall))"
   ]
  },
  {
   "cell_type": "code",
   "execution_count": 33,
   "id": "6ce5a10d-4339-451d-994c-b45aa63af446",
   "metadata": {},
   "outputs": [],
   "source": [
    "result = {\"Model\":[\"Decision Tree\", \"Logistic Regression\", \"Naive Bayes\"]}"
   ]
  },
  {
   "cell_type": "code",
   "execution_count": 34,
   "id": "17d9aa46-0c0d-4c28-87a7-d2ae193d2a8c",
   "metadata": {},
   "outputs": [],
   "source": [
    "result['AUCPR'] = aucpr"
   ]
  },
  {
   "cell_type": "code",
   "execution_count": 35,
   "id": "81563d6c-8c1a-459f-a382-e341db42a9d2",
   "metadata": {},
   "outputs": [
    {
     "data": {
      "text/html": [
       "<div>\n",
       "<style scoped>\n",
       "    .dataframe tbody tr th:only-of-type {\n",
       "        vertical-align: middle;\n",
       "    }\n",
       "\n",
       "    .dataframe tbody tr th {\n",
       "        vertical-align: top;\n",
       "    }\n",
       "\n",
       "    .dataframe thead th {\n",
       "        text-align: right;\n",
       "    }\n",
       "</style>\n",
       "<table border=\"1\" class=\"dataframe\">\n",
       "  <thead>\n",
       "    <tr style=\"text-align: right;\">\n",
       "      <th></th>\n",
       "      <th>Model</th>\n",
       "      <th>AUCPR</th>\n",
       "    </tr>\n",
       "  </thead>\n",
       "  <tbody>\n",
       "    <tr>\n",
       "      <th>0</th>\n",
       "      <td>Decision Tree</td>\n",
       "      <td>0.654417</td>\n",
       "    </tr>\n",
       "    <tr>\n",
       "      <th>1</th>\n",
       "      <td>Logistic Regression</td>\n",
       "      <td>0.756142</td>\n",
       "    </tr>\n",
       "    <tr>\n",
       "      <th>2</th>\n",
       "      <td>Naive Bayes</td>\n",
       "      <td>0.754453</td>\n",
       "    </tr>\n",
       "  </tbody>\n",
       "</table>\n",
       "</div>"
      ],
      "text/plain": [
       "                 Model     AUCPR\n",
       "0        Decision Tree  0.654417\n",
       "1  Logistic Regression  0.756142\n",
       "2          Naive Bayes  0.754453"
      ]
     },
     "execution_count": 35,
     "metadata": {},
     "output_type": "execute_result"
    }
   ],
   "source": [
    "pd.DataFrame(result)"
   ]
  },
  {
   "cell_type": "markdown",
   "id": "be8c1bf8-345a-4f02-aa6e-be3849d20e10",
   "metadata": {},
   "source": [
    "Since AUCPR is maximum for Logistic Regression model. It is the model we would choose. "
   ]
  },
  {
   "cell_type": "code",
   "execution_count": 36,
   "id": "212368ea-c8e1-4281-b925-0f03c2082a41",
   "metadata": {},
   "outputs": [],
   "source": [
    "import pickle\n",
    "\n",
    "with open('decision_tree.pkl', 'wb') as f:\n",
    "    pickle.dump(DT_model, f)\n",
    "\n",
    "with open('logistic_regression.pkl', 'wb') as f:\n",
    "    pickle.dump(Logistic_model, f)\n",
    "\n",
    "\n",
    "with open('Naive_Bayes.pkl', 'wb') as f:\n",
    "    pickle.dump(NB_model, f)"
   ]
  },
  {
   "cell_type": "code",
   "execution_count": null,
   "id": "5eedfaf4-43bc-44d6-bcf7-1801b8e48382",
   "metadata": {},
   "outputs": [],
   "source": []
  }
 ],
 "metadata": {
  "kernelspec": {
   "display_name": "Python 3 (ipykernel)",
   "language": "python",
   "name": "python3"
  },
  "language_info": {
   "codemirror_mode": {
    "name": "ipython",
    "version": 3
   },
   "file_extension": ".py",
   "mimetype": "text/x-python",
   "name": "python",
   "nbconvert_exporter": "python",
   "pygments_lexer": "ipython3",
   "version": "3.11.5"
  }
 },
 "nbformat": 4,
 "nbformat_minor": 5
}
